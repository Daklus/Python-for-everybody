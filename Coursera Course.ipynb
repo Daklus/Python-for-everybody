{
  "cells": [
    {
      "metadata": {
        "trusted": true
      },
      "cell_type": "code",
      "source": "x = 1\ny = 2\nz = 3",
      "execution_count": 1,
      "outputs": []
    },
    {
      "metadata": {
        "trusted": true
      },
      "cell_type": "code",
      "source": "x + y + z",
      "execution_count": 2,
      "outputs": [
        {
          "output_type": "execute_result",
          "execution_count": 2,
          "data": {
            "text/plain": "6"
          },
          "metadata": {}
        }
      ]
    },
    {
      "metadata": {
        "trusted": true
      },
      "cell_type": "code",
      "source": "def add_numbers (x,y):\n    return x * y\nadd_numbers (1,2)    ",
      "execution_count": 3,
      "outputs": [
        {
          "output_type": "execute_result",
          "execution_count": 3,
          "data": {
            "text/plain": "2"
          },
          "metadata": {}
        }
      ]
    },
    {
      "metadata": {
        "trusted": true
      },
      "cell_type": "code",
      "source": "def add_numbers(x,y,z = None):\n    if (z == None):\n        return x + y\n    else:\n        return x + y +z\nprint(add_numbers(1, 2))\nprint(add_numbers(1, 2, 3))",
      "execution_count": 4,
      "outputs": [
        {
          "output_type": "stream",
          "text": "3\n6\n",
          "name": "stdout"
        }
      ]
    },
    {
      "metadata": {
        "trusted": true
      },
      "cell_type": "code",
      "source": "def add_numbers (x, y, z = None, flag = False):\n    if (flag):\n        print('Flag is true!')\n    if (z == None):\n        return x + y\n    else:\n        return x, y, z\n    \nprint(add_numbers(1, 2, flag = True))",
      "execution_count": 5,
      "outputs": [
        {
          "output_type": "stream",
          "text": "Flag is true!\n3\n",
          "name": "stdout"
        }
      ]
    },
    {
      "metadata": {
        "trusted": true
      },
      "cell_type": "code",
      "source": "def add_numbers(x, y):\n    return x + y\n\na = add_numbers\na (1, 2)",
      "execution_count": 6,
      "outputs": [
        {
          "output_type": "execute_result",
          "execution_count": 6,
          "data": {
            "text/plain": "3"
          },
          "metadata": {}
        }
      ]
    },
    {
      "metadata": {
        "trusted": true
      },
      "cell_type": "code",
      "source": "x = ('daniel', 1 , '!', 'x')\ntype (x)",
      "execution_count": 7,
      "outputs": [
        {
          "output_type": "execute_result",
          "execution_count": 7,
          "data": {
            "text/plain": "tuple"
          },
          "metadata": {}
        }
      ]
    },
    {
      "metadata": {
        "trusted": true
      },
      "cell_type": "code",
      "source": "z = ['daniel', 1, 'x']\ntype (z)",
      "execution_count": 8,
      "outputs": [
        {
          "output_type": "execute_result",
          "execution_count": 8,
          "data": {
            "text/plain": "list"
          },
          "metadata": {}
        }
      ]
    },
    {
      "metadata": {
        "trusted": true
      },
      "cell_type": "code",
      "source": "z.append(3.3) # I have invocated some many times, that's why the answer\nprint(z)",
      "execution_count": 9,
      "outputs": [
        {
          "output_type": "stream",
          "text": "['daniel', 1, 'x', 3.3]\n",
          "name": "stdout"
        }
      ]
    },
    {
      "metadata": {
        "trusted": true
      },
      "cell_type": "code",
      "source": "ages = input(\"How old are you? \")\n\nage = int(ages)\n\nseconds = age * 365 * 24 * 3600\nstrsec = str(seconds)\n\nprint(\"you have lived for\" + strsec + \"seconds \")",
      "execution_count": 10,
      "outputs": [
        {
          "output_type": "stream",
          "name": "stdout",
          "text": "How old are you? 38\nyou have lived for1198368000seconds \n"
        }
      ]
    },
    {
      "metadata": {
        "trusted": true
      },
      "cell_type": "code",
      "source": "def live_seconds(x, y, z = None):\n    if (z == None):\n        return x + y\n    else:\n        return x + y + z\nprint(live_seconds(1, 2))\nprint(live_seconds(1, 2, 3))    \n      ",
      "execution_count": 11,
      "outputs": [
        {
          "output_type": "stream",
          "text": "3\n6\n",
          "name": "stdout"
        }
      ]
    },
    {
      "metadata": {
        "trusted": true
      },
      "cell_type": "code",
      "source": "ages = input(\"How old are you? \")\nage = int(ages)\nseconds = age * 365 * 24 * 3600\n\nstrsec = str(seconds)\n\nprint(\"You have lived for \" + strsec + \" seconds\")",
      "execution_count": 12,
      "outputs": [
        {
          "output_type": "stream",
          "name": "stdout",
          "text": "How old are you? 338\nYou have lived for 10659168000 seconds\n"
        }
      ]
    },
    {
      "metadata": {
        "trusted": true
      },
      "cell_type": "code",
      "source": "birth = input(\" When did you born? \") # pendent to get the number of days or hours or seconds from the day I was born to this day\nday = int(birth)\n\nif year == 12\n    return ",
      "execution_count": 13,
      "outputs": [
        {
          "output_type": "error",
          "ename": "SyntaxError",
          "evalue": "invalid syntax (<ipython-input-13-0026e7a77f14>, line 4)",
          "traceback": [
            "\u001b[0;36m  File \u001b[0;32m\"<ipython-input-13-0026e7a77f14>\"\u001b[0;36m, line \u001b[0;32m4\u001b[0m\n\u001b[0;31m    if year == 12\u001b[0m\n\u001b[0m                 ^\u001b[0m\n\u001b[0;31mSyntaxError\u001b[0m\u001b[0;31m:\u001b[0m invalid syntax\n"
          ]
        }
      ]
    },
    {
      "metadata": {
        "trusted": true
      },
      "cell_type": "code",
      "source": "def add_numbers (x, y, z = None):\n    if z == None:\n        return x + y\n    else:\n        return x + y + z\nprint(add_numbers(1, 2))\nprint(add_numbers(1, 2, 3))",
      "execution_count": 14,
      "outputs": [
        {
          "output_type": "stream",
          "text": "3\n6\n",
          "name": "stdout"
        }
      ]
    },
    {
      "metadata": {
        "trusted": true
      },
      "cell_type": "code",
      "source": "def add_numbers (x, y):\n    return x + y\n\nadd_numbers(1, 2)",
      "execution_count": 15,
      "outputs": [
        {
          "output_type": "execute_result",
          "execution_count": 15,
          "data": {
            "text/plain": "3"
          },
          "metadata": {}
        }
      ]
    },
    {
      "metadata": {
        "trusted": true
      },
      "cell_type": "code",
      "source": "def add_numbers (x, y, z = None, flag = False):\n    if flag:\n        print (\"Flag is True\")\n    if z == None:\n        return x + y\n    else:\n        return x + y + z\n    \nprint(add_numbers(1, 2, flag = True))",
      "execution_count": 16,
      "outputs": [
        {
          "output_type": "stream",
          "text": "Flag is True\n3\n",
          "name": "stdout"
        }
      ]
    },
    {
      "metadata": {
        "trusted": true
      },
      "cell_type": "code",
      "source": "def add_numbers (x, y):\n    return x + y\n\na = add_numbers\na(1, 2)",
      "execution_count": 17,
      "outputs": [
        {
          "output_type": "execute_result",
          "execution_count": 17,
          "data": {
            "text/plain": "3"
          },
          "metadata": {}
        }
      ]
    },
    {
      "metadata": {
        "trusted": true
      },
      "cell_type": "code",
      "source": "type(a)",
      "execution_count": 18,
      "outputs": [
        {
          "output_type": "execute_result",
          "execution_count": 18,
          "data": {
            "text/plain": "function"
          },
          "metadata": {}
        }
      ]
    },
    {
      "metadata": {
        "trusted": true
      },
      "cell_type": "code",
      "source": "x = (1, \"daniel\", 'b', 3)\ntype(x)",
      "execution_count": 19,
      "outputs": [
        {
          "output_type": "execute_result",
          "execution_count": 19,
          "data": {
            "text/plain": "tuple"
          },
          "metadata": {}
        }
      ]
    },
    {
      "metadata": {
        "trusted": true
      },
      "cell_type": "code",
      "source": "print(x)",
      "execution_count": 20,
      "outputs": [
        {
          "output_type": "stream",
          "text": "(1, 'daniel', 'b', 3)\n",
          "name": "stdout"
        }
      ]
    },
    {
      "metadata": {
        "trusted": true
      },
      "cell_type": "code",
      "source": "y = [2, 'Hernando', \"c\", 4]\ntype (y)",
      "execution_count": 21,
      "outputs": [
        {
          "output_type": "execute_result",
          "execution_count": 21,
          "data": {
            "text/plain": "list"
          },
          "metadata": {}
        }
      ]
    },
    {
      "metadata": {
        "trusted": true
      },
      "cell_type": "code",
      "source": "print(y)",
      "execution_count": 22,
      "outputs": [
        {
          "output_type": "stream",
          "text": "[2, 'Hernando', 'c', 4]\n",
          "name": "stdout"
        }
      ]
    },
    {
      "metadata": {
        "trusted": true
      },
      "cell_type": "code",
      "source": "y.append(3.3)\nprint(y)",
      "execution_count": 23,
      "outputs": [
        {
          "output_type": "stream",
          "text": "[2, 'Hernando', 'c', 4, 3.3]\n",
          "name": "stdout"
        }
      ]
    },
    {
      "metadata": {
        "trusted": true
      },
      "cell_type": "code",
      "source": "for item in y:  # this a list\n    print(item)",
      "execution_count": 24,
      "outputs": [
        {
          "output_type": "stream",
          "text": "2\nHernando\nc\n4\n3.3\n",
          "name": "stdout"
        }
      ]
    },
    {
      "metadata": {
        "trusted": true
      },
      "cell_type": "code",
      "source": "for item in x:  #this is a tuple\n    print(item)",
      "execution_count": 25,
      "outputs": [
        {
          "output_type": "stream",
          "text": "1\ndaniel\nb\n3\n",
          "name": "stdout"
        }
      ]
    },
    {
      "metadata": {
        "trusted": true
      },
      "cell_type": "code",
      "source": "len(x)",
      "execution_count": 26,
      "outputs": [
        {
          "output_type": "execute_result",
          "execution_count": 26,
          "data": {
            "text/plain": "4"
          },
          "metadata": {}
        }
      ]
    },
    {
      "metadata": {
        "trusted": true
      },
      "cell_type": "code",
      "source": "y[0]",
      "execution_count": 27,
      "outputs": [
        {
          "output_type": "execute_result",
          "execution_count": 27,
          "data": {
            "text/plain": "2"
          },
          "metadata": {}
        }
      ]
    },
    {
      "metadata": {
        "trusted": true
      },
      "cell_type": "code",
      "source": "i = 0\nwhile( i != len(x)):\n    print(x[i])\n    i = i + 1",
      "execution_count": 28,
      "outputs": [
        {
          "output_type": "stream",
          "text": "1\ndaniel\nb\n3\n",
          "name": "stdout"
        }
      ]
    },
    {
      "metadata": {
        "trusted": true
      },
      "cell_type": "code",
      "source": "y [2]*3",
      "execution_count": 29,
      "outputs": [
        {
          "output_type": "execute_result",
          "execution_count": 29,
          "data": {
            "text/plain": "'ccc'"
          },
          "metadata": {}
        }
      ]
    },
    {
      "metadata": {
        "trusted": true
      },
      "cell_type": "code",
      "source": "x + y",
      "execution_count": 30,
      "outputs": [
        {
          "output_type": "error",
          "ename": "TypeError",
          "evalue": "can only concatenate tuple (not \"list\") to tuple",
          "traceback": [
            "\u001b[0;31m---------------------------------------------------------------------------\u001b[0m",
            "\u001b[0;31mTypeError\u001b[0m                                 Traceback (most recent call last)",
            "\u001b[0;32m<ipython-input-30-cd60f97aa77f>\u001b[0m in \u001b[0;36m<module>\u001b[0;34m()\u001b[0m\n\u001b[0;32m----> 1\u001b[0;31m \u001b[0mx\u001b[0m \u001b[0;34m+\u001b[0m \u001b[0my\u001b[0m\u001b[0;34m\u001b[0m\u001b[0m\n\u001b[0m",
            "\u001b[0;31mTypeError\u001b[0m: can only concatenate tuple (not \"list\") to tuple"
          ]
        }
      ]
    },
    {
      "metadata": {
        "trusted": true
      },
      "cell_type": "code",
      "source": "y",
      "execution_count": 31,
      "outputs": [
        {
          "output_type": "execute_result",
          "execution_count": 31,
          "data": {
            "text/plain": "[2, 'Hernando', 'c', 4, 3.3]"
          },
          "metadata": {}
        }
      ]
    },
    {
      "metadata": {
        "trusted": true
      },
      "cell_type": "code",
      "source": "4 in y",
      "execution_count": 32,
      "outputs": [
        {
          "output_type": "execute_result",
          "execution_count": 32,
          "data": {
            "text/plain": "True"
          },
          "metadata": {}
        }
      ]
    },
    {
      "metadata": {
        "trusted": true
      },
      "cell_type": "code",
      "source": "x",
      "execution_count": 33,
      "outputs": [
        {
          "output_type": "execute_result",
          "execution_count": 33,
          "data": {
            "text/plain": "(1, 'daniel', 'b', 3)"
          },
          "metadata": {}
        }
      ]
    },
    {
      "metadata": {
        "trusted": true
      },
      "cell_type": "code",
      "source": "3 in x",
      "execution_count": 34,
      "outputs": [
        {
          "output_type": "execute_result",
          "execution_count": 34,
          "data": {
            "text/plain": "True"
          },
          "metadata": {}
        }
      ]
    },
    {
      "metadata": {
        "trusted": true
      },
      "cell_type": "code",
      "source": "x[0:3]",
      "execution_count": 35,
      "outputs": [
        {
          "output_type": "execute_result",
          "execution_count": 35,
          "data": {
            "text/plain": "(1, 'daniel', 'b')"
          },
          "metadata": {}
        }
      ]
    },
    {
      "metadata": {
        "trusted": true
      },
      "cell_type": "code",
      "source": "y[0:2]",
      "execution_count": 36,
      "outputs": [
        {
          "output_type": "execute_result",
          "execution_count": 36,
          "data": {
            "text/plain": "[2, 'Hernando']"
          },
          "metadata": {}
        }
      ]
    },
    {
      "metadata": {
        "trusted": true
      },
      "cell_type": "code",
      "source": "y[-1]",
      "execution_count": 37,
      "outputs": [
        {
          "output_type": "execute_result",
          "execution_count": 37,
          "data": {
            "text/plain": "3.3"
          },
          "metadata": {}
        }
      ]
    },
    {
      "metadata": {
        "trusted": true
      },
      "cell_type": "code",
      "source": "x.append (3.3)",
      "execution_count": 38,
      "outputs": [
        {
          "output_type": "error",
          "ename": "AttributeError",
          "evalue": "'tuple' object has no attribute 'append'",
          "traceback": [
            "\u001b[0;31m---------------------------------------------------------------------------\u001b[0m",
            "\u001b[0;31mAttributeError\u001b[0m                            Traceback (most recent call last)",
            "\u001b[0;32m<ipython-input-38-f7640978cfb3>\u001b[0m in \u001b[0;36m<module>\u001b[0;34m()\u001b[0m\n\u001b[0;32m----> 1\u001b[0;31m \u001b[0mx\u001b[0m\u001b[0;34m.\u001b[0m\u001b[0mappend\u001b[0m \u001b[0;34m(\u001b[0m\u001b[0;36m3.3\u001b[0m\u001b[0;34m)\u001b[0m\u001b[0;34m\u001b[0m\u001b[0m\n\u001b[0m",
            "\u001b[0;31mAttributeError\u001b[0m: 'tuple' object has no attribute 'append'"
          ]
        }
      ]
    },
    {
      "metadata": {
        "trusted": true
      },
      "cell_type": "code",
      "source": "z = [78, \"Bernal\", '$5']\ntype(z)",
      "execution_count": 39,
      "outputs": [
        {
          "output_type": "execute_result",
          "execution_count": 39,
          "data": {
            "text/plain": "list"
          },
          "metadata": {}
        }
      ]
    },
    {
      "metadata": {
        "trusted": true
      },
      "cell_type": "code",
      "source": "i = 0\nwhile i != len (z):\n    print(x[i])\n    i = i + 1    ",
      "execution_count": 40,
      "outputs": [
        {
          "output_type": "stream",
          "text": "1\ndaniel\nb\n",
          "name": "stdout"
        }
      ]
    },
    {
      "metadata": {
        "trusted": true
      },
      "cell_type": "code",
      "source": "y + z",
      "execution_count": 41,
      "outputs": [
        {
          "output_type": "execute_result",
          "execution_count": 41,
          "data": {
            "text/plain": "[2, 'Hernando', 'c', 4, 3.3, 78, 'Bernal', '$5']"
          },
          "metadata": {}
        }
      ]
    },
    {
      "metadata": {
        "trusted": true
      },
      "cell_type": "code",
      "source": "a = (56, 'hello')\nb = (\"dude\", 38)",
      "execution_count": 42,
      "outputs": []
    },
    {
      "metadata": {
        "trusted": true
      },
      "cell_type": "code",
      "source": "a + b",
      "execution_count": 43,
      "outputs": [
        {
          "output_type": "execute_result",
          "execution_count": 43,
          "data": {
            "text/plain": "(56, 'hello', 'dude', 38)"
          },
          "metadata": {}
        }
      ]
    },
    {
      "metadata": {
        "trusted": true
      },
      "cell_type": "code",
      "source": "a * 3",
      "execution_count": 44,
      "outputs": [
        {
          "output_type": "execute_result",
          "execution_count": 44,
          "data": {
            "text/plain": "(56, 'hello', 56, 'hello', 56, 'hello')"
          },
          "metadata": {}
        }
      ]
    },
    {
      "metadata": {
        "trusted": true
      },
      "cell_type": "code",
      "source": "56 in a",
      "execution_count": 45,
      "outputs": [
        {
          "output_type": "execute_result",
          "execution_count": 45,
          "data": {
            "text/plain": "True"
          },
          "metadata": {}
        }
      ]
    },
    {
      "metadata": {
        "trusted": true
      },
      "cell_type": "code",
      "source": "x [1:2]",
      "execution_count": 46,
      "outputs": [
        {
          "output_type": "execute_result",
          "execution_count": 46,
          "data": {
            "text/plain": "('daniel',)"
          },
          "metadata": {}
        }
      ]
    },
    {
      "metadata": {
        "trusted": true
      },
      "cell_type": "code",
      "source": "x [-4:-2]",
      "execution_count": 47,
      "outputs": [
        {
          "output_type": "execute_result",
          "execution_count": 47,
          "data": {
            "text/plain": "(1, 'daniel')"
          },
          "metadata": {}
        }
      ]
    },
    {
      "metadata": {
        "trusted": true
      },
      "cell_type": "code",
      "source": "x",
      "execution_count": 48,
      "outputs": [
        {
          "output_type": "execute_result",
          "execution_count": 48,
          "data": {
            "text/plain": "(1, 'daniel', 'b', 3)"
          },
          "metadata": {}
        }
      ]
    },
    {
      "metadata": {
        "trusted": true
      },
      "cell_type": "code",
      "source": "x [-3:-1]",
      "execution_count": 49,
      "outputs": [
        {
          "output_type": "execute_result",
          "execution_count": 49,
          "data": {
            "text/plain": "('daniel', 'b')"
          },
          "metadata": {}
        }
      ]
    },
    {
      "metadata": {
        "trusted": true
      },
      "cell_type": "code",
      "source": "x[:3]",
      "execution_count": 50,
      "outputs": [
        {
          "output_type": "execute_result",
          "execution_count": 50,
          "data": {
            "text/plain": "(1, 'daniel', 'b')"
          },
          "metadata": {}
        }
      ]
    },
    {
      "metadata": {
        "trusted": true
      },
      "cell_type": "code",
      "source": "y",
      "execution_count": 51,
      "outputs": [
        {
          "output_type": "execute_result",
          "execution_count": 51,
          "data": {
            "text/plain": "[2, 'Hernando', 'c', 4, 3.3]"
          },
          "metadata": {}
        }
      ]
    },
    {
      "metadata": {
        "trusted": true
      },
      "cell_type": "code",
      "source": "y.append(5.2)",
      "execution_count": 53,
      "outputs": []
    },
    {
      "metadata": {
        "trusted": true
      },
      "cell_type": "code",
      "source": "y",
      "execution_count": 54,
      "outputs": [
        {
          "output_type": "execute_result",
          "execution_count": 54,
          "data": {
            "text/plain": "[2, 'Hernando', 'c', 4, 3.3, 5.2, 5.2]"
          },
          "metadata": {}
        }
      ]
    },
    {
      "metadata": {
        "trusted": true
      },
      "cell_type": "code",
      "source": "y[3:]",
      "execution_count": 55,
      "outputs": [
        {
          "output_type": "execute_result",
          "execution_count": 55,
          "data": {
            "text/plain": "[4, 3.3, 5.2, 5.2]"
          },
          "metadata": {}
        }
      ]
    },
    {
      "metadata": {
        "trusted": true
      },
      "cell_type": "code",
      "source": "firstname = 'Daniel'\nlastname = \"Bernal\"\n\nprint(firstname + '' + lastname)\nprint(firstname * 3)\nprint('Dan' in firstname)",
      "execution_count": 56,
      "outputs": [
        {
          "output_type": "stream",
          "text": "DanielBernal\nDanielDanielDaniel\nTrue\n",
          "name": "stdout"
        }
      ]
    },
    {
      "metadata": {
        "trusted": true
      },
      "cell_type": "code",
      "source": "firstname = 'Daniel Hernando Bernal Castaño'.split(' ')[0] #\nlastname = \"Daniel Hernando Bernal Castaño\".split(' ')[-1]\nprint(firstname)\nprint(lastname)",
      "execution_count": 57,
      "outputs": [
        {
          "output_type": "stream",
          "text": "Daniel\nCastaño\n",
          "name": "stdout"
        }
      ]
    },
    {
      "metadata": {
        "trusted": true
      },
      "cell_type": "code",
      "source": "'Daniel' + str(2)",
      "execution_count": 58,
      "outputs": [
        {
          "output_type": "execute_result",
          "execution_count": 58,
          "data": {
            "text/plain": "'Daniel2'"
          },
          "metadata": {}
        }
      ]
    },
    {
      "metadata": {
        "trusted": true
      },
      "cell_type": "code",
      "source": "c = {'Daniel Bernal': \"daklus@hotmail.com\", 'Hernando Castaño' : 'daklusagency@gmail.com'}",
      "execution_count": 59,
      "outputs": []
    },
    {
      "metadata": {
        "trusted": true
      },
      "cell_type": "code",
      "source": "c[\"Daniel Bernal\"]",
      "execution_count": 60,
      "outputs": [
        {
          "output_type": "execute_result",
          "execution_count": 60,
          "data": {
            "text/plain": "'daklus@hotmail.com'"
          },
          "metadata": {}
        }
      ]
    },
    {
      "metadata": {
        "trusted": true
      },
      "cell_type": "code",
      "source": "c[\"Gladys Muñoz\"] = None\nc[\"Gladys Muñoz\"]",
      "execution_count": 61,
      "outputs": []
    },
    {
      "metadata": {
        "trusted": true
      },
      "cell_type": "code",
      "source": "for name in c:\n    print(c[name])",
      "execution_count": 62,
      "outputs": [
        {
          "output_type": "stream",
          "text": "None\ndaklus@hotmail.com\ndaklusagency@gmail.com\n",
          "name": "stdout"
        }
      ]
    },
    {
      "metadata": {
        "trusted": true
      },
      "cell_type": "code",
      "source": "for email in c.values():\n    print(email)    ",
      "execution_count": 63,
      "outputs": [
        {
          "output_type": "stream",
          "text": "None\ndaklus@hotmail.com\ndaklusagency@gmail.com\n",
          "name": "stdout"
        }
      ]
    },
    {
      "metadata": {
        "trusted": true
      },
      "cell_type": "code",
      "source": "for name, email in c.items():\n    print(name)\n    print(email)",
      "execution_count": 64,
      "outputs": [
        {
          "output_type": "stream",
          "text": "Gladys Muñoz\nNone\nDaniel Bernal\ndaklus@hotmail.com\nHernando Castaño\ndaklusagency@gmail.com\n",
          "name": "stdout"
        }
      ]
    },
    {
      "metadata": {
        "trusted": true
      },
      "cell_type": "code",
      "source": "c",
      "execution_count": 65,
      "outputs": [
        {
          "output_type": "execute_result",
          "execution_count": 65,
          "data": {
            "text/plain": "{'Daniel Bernal': 'daklus@hotmail.com',\n 'Gladys Muñoz': None,\n 'Hernando Castaño': 'daklusagency@gmail.com'}"
          },
          "metadata": {}
        }
      ]
    },
    {
      "metadata": {
        "trusted": true
      },
      "cell_type": "code",
      "source": "y",
      "execution_count": 66,
      "outputs": [
        {
          "output_type": "execute_result",
          "execution_count": 66,
          "data": {
            "text/plain": "[2, 'Hernando', 'c', 4, 3.3, 5.2, 5.2]"
          },
          "metadata": {}
        }
      ]
    },
    {
      "metadata": {
        "trusted": true
      },
      "cell_type": "code",
      "source": "d = [\"Daniel\", \"Bernal\", 'daklus@hotmail.com']\nfname, lname, email = d",
      "execution_count": 67,
      "outputs": []
    },
    {
      "metadata": {
        "trusted": true
      },
      "cell_type": "code",
      "source": "fname",
      "execution_count": 68,
      "outputs": [
        {
          "output_type": "execute_result",
          "execution_count": 68,
          "data": {
            "text/plain": "'Daniel'"
          },
          "metadata": {}
        }
      ]
    },
    {
      "metadata": {
        "trusted": true
      },
      "cell_type": "code",
      "source": "lname",
      "execution_count": 69,
      "outputs": [
        {
          "output_type": "execute_result",
          "execution_count": 69,
          "data": {
            "text/plain": "'Bernal'"
          },
          "metadata": {}
        }
      ]
    },
    {
      "metadata": {
        "trusted": true
      },
      "cell_type": "code",
      "source": "e = (\"Daniel\", \"Bernal\", 'daklus@hotmail.com')\nfname, lname, email = e",
      "execution_count": 70,
      "outputs": []
    },
    {
      "metadata": {
        "trusted": true
      },
      "cell_type": "code",
      "source": "fname",
      "execution_count": 71,
      "outputs": [
        {
          "output_type": "execute_result",
          "execution_count": 71,
          "data": {
            "text/plain": "'Daniel'"
          },
          "metadata": {}
        }
      ]
    },
    {
      "metadata": {
        "trusted": true
      },
      "cell_type": "code",
      "source": "lname",
      "execution_count": 72,
      "outputs": [
        {
          "output_type": "execute_result",
          "execution_count": 72,
          "data": {
            "text/plain": "'Bernal'"
          },
          "metadata": {}
        }
      ]
    },
    {
      "metadata": {
        "trusted": true
      },
      "cell_type": "code",
      "source": "e = (\"Daniel\", \"Bernal\", 'daklus@hotmail.com', 'Zapata')\nfname, lname, email = e",
      "execution_count": 73,
      "outputs": [
        {
          "output_type": "error",
          "ename": "ValueError",
          "evalue": "too many values to unpack (expected 3)",
          "traceback": [
            "\u001b[0;31m---------------------------------------------------------------------------\u001b[0m",
            "\u001b[0;31mValueError\u001b[0m                                Traceback (most recent call last)",
            "\u001b[0;32m<ipython-input-73-48869b28fba1>\u001b[0m in \u001b[0;36m<module>\u001b[0;34m()\u001b[0m\n\u001b[1;32m      1\u001b[0m \u001b[0me\u001b[0m \u001b[0;34m=\u001b[0m \u001b[0;34m(\u001b[0m\u001b[0;34m\"Daniel\"\u001b[0m\u001b[0;34m,\u001b[0m \u001b[0;34m\"Bernal\"\u001b[0m\u001b[0;34m,\u001b[0m \u001b[0;34m'daklus@hotmail.com'\u001b[0m\u001b[0;34m,\u001b[0m \u001b[0;34m'Zapata'\u001b[0m\u001b[0;34m)\u001b[0m\u001b[0;34m\u001b[0m\u001b[0m\n\u001b[0;32m----> 2\u001b[0;31m \u001b[0mfname\u001b[0m\u001b[0;34m,\u001b[0m \u001b[0mlname\u001b[0m\u001b[0;34m,\u001b[0m \u001b[0memail\u001b[0m \u001b[0;34m=\u001b[0m \u001b[0me\u001b[0m\u001b[0;34m\u001b[0m\u001b[0m\n\u001b[0m",
            "\u001b[0;31mValueError\u001b[0m: too many values to unpack (expected 3)"
          ]
        }
      ]
    },
    {
      "metadata": {
        "trusted": true
      },
      "cell_type": "code",
      "source": "sales_record ={\n    'price' : 3.24,\n    'num_items' : 4,\n    'person' : 'Chris'}\n\nsales_statement = '{} bought {} item(s) at a price of {} each for a total of {}'\n\nprint(sales_statement.format(sales_record['person'],\n                             sales_record['num_items'],\n                             sales_record['price'],\n                             sales_record['num_items']*sales_record['price']))",
      "execution_count": 74,
      "outputs": [
        {
          "output_type": "stream",
          "text": "Chris bought 4 item(s) at a price of 3.24 each for a total of 12.96\n",
          "name": "stdout"
        }
      ]
    },
    {
      "metadata": {
        "trusted": true
      },
      "cell_type": "code",
      "source": "x = 1 + 2 * 3 - 8 / 4",
      "execution_count": 75,
      "outputs": []
    },
    {
      "metadata": {
        "trusted": true
      },
      "cell_type": "code",
      "source": "x",
      "execution_count": 76,
      "outputs": [
        {
          "output_type": "execute_result",
          "execution_count": 76,
          "data": {
            "text/plain": "5.0"
          },
          "metadata": {}
        }
      ]
    },
    {
      "metadata": {
        "trusted": true
      },
      "cell_type": "code",
      "source": "x = int(98.6)\nx",
      "execution_count": 77,
      "outputs": [
        {
          "output_type": "execute_result",
          "execution_count": 77,
          "data": {
            "text/plain": "98"
          },
          "metadata": {}
        }
      ]
    },
    {
      "metadata": {
        "trusted": true
      },
      "cell_type": "code",
      "source": "hrs = input(\"Enter Hours:\")\nrate = 2.75\npay = float(hrs) * rate\n\nprint(\"pay: \", pay)",
      "execution_count": 78,
      "outputs": [
        {
          "output_type": "stream",
          "name": "stdout",
          "text": "Enter Hours:40\npay:  110.0\n"
        }
      ]
    },
    {
      "metadata": {
        "trusted": true
      },
      "cell_type": "code",
      "source": "1 + 2.5",
      "execution_count": 79,
      "outputs": [
        {
          "output_type": "execute_result",
          "execution_count": 79,
          "data": {
            "text/plain": "3.5"
          },
          "metadata": {}
        }
      ]
    },
    {
      "metadata": {
        "trusted": true
      },
      "cell_type": "code",
      "source": "x = 5\nif x == 5:\n    print(\"5 is equal\")\nif x < 6: print('less than 6')\nif x != 6:\n    print('No equal 6')\n    ",
      "execution_count": 80,
      "outputs": [
        {
          "output_type": "stream",
          "text": "5 is equal\nless than 6\nNo equal 6\n",
          "name": "stdout"
        }
      ]
    },
    {
      "metadata": {
        "trusted": true
      },
      "cell_type": "code",
      "source": "x = 5\nprint('Before 5')\nif x == 5:\n    print('Is 5')\n    print(\"Is still 5\")\n    print('Third 5')\nprint(\"Afterwards 5\")",
      "execution_count": 81,
      "outputs": [
        {
          "output_type": "stream",
          "text": "Before 5\nIs 5\nIs still 5\nThird 5\nAfterwards 5\n",
          "name": "stdout"
        }
      ]
    },
    {
      "metadata": {
        "trusted": true
      },
      "cell_type": "code",
      "source": "for i in range (5):\n    print(i)\n    if i > 2:\n        print('Bigger than 2')\n    print('Done with i', i)",
      "execution_count": 82,
      "outputs": [
        {
          "output_type": "stream",
          "text": "0\nDone with i 0\n1\nDone with i 1\n2\nDone with i 2\n3\nBigger than 2\nDone with i 3\n4\nBigger than 2\nDone with i 4\n",
          "name": "stdout"
        }
      ]
    },
    {
      "metadata": {
        "trusted": true
      },
      "cell_type": "code",
      "source": "x = 4\n\nif x > 2:\n    print(\"Bigger\")\nelse:\n    print('Smaller')\n    \nprint(\"All done\")",
      "execution_count": 83,
      "outputs": [
        {
          "output_type": "stream",
          "text": "Bigger\nAll done\n",
          "name": "stdout"
        }
      ]
    },
    {
      "metadata": {
        "trusted": true
      },
      "cell_type": "code",
      "source": "x = 4\nif x > 2:\n    print(\"Bigger\")\nelse:\n    print('Smaller')\n    \nprint('All done')",
      "execution_count": 84,
      "outputs": [
        {
          "output_type": "stream",
          "text": "Bigger\nAll done\n",
          "name": "stdout"
        }
      ]
    },
    {
      "metadata": {
        "trusted": true
      },
      "cell_type": "code",
      "source": "if x < 2:\n    print('small')\nelif x < 10:\n    print('Medium')\nelse:\n    print('Large')\nprint('All done')",
      "execution_count": 85,
      "outputs": [
        {
          "output_type": "stream",
          "text": "Medium\nAll done\n",
          "name": "stdout"
        }
      ]
    },
    {
      "metadata": {
        "trusted": true
      },
      "cell_type": "code",
      "source": "x = 15\n\nif x < 2:\n    print('Small')\nelif x < 10:\n    print('Medium')\nelif x < 20:  # only one is triggered, that's why none of the others apply\n    print('Big') # because is indexed in one block\nelif x < 40:\n    print('Large')\nelif x < 100:\n    print('Huge')\nelse:\n    print('Ginormous')\n    ",
      "execution_count": 86,
      "outputs": [
        {
          "output_type": "stream",
          "text": "Big\n",
          "name": "stdout"
        }
      ]
    },
    {
      "metadata": {
        "trusted": true
      },
      "cell_type": "code",
      "source": "x = 1256897\nif x < 2: print('Below 2')\nelif x >= 2:\n    print('Two or more')\nelse:\n    print('Something else')",
      "execution_count": 87,
      "outputs": [
        {
          "output_type": "stream",
          "text": "Two or more\n",
          "name": "stdout"
        }
      ]
    },
    {
      "metadata": {
        "trusted": true
      },
      "cell_type": "code",
      "source": "x = 6\nif x < 2:\n    print('Below 2')\nelif x < 20:\n    print('Below 20')\nelif x < 10:  # will never print this because only one stament is execute\n    print('Below 10')# and the order influence, first x < 20\nelse:\n    print('Something else')",
      "execution_count": 88,
      "outputs": [
        {
          "output_type": "stream",
          "text": "Below 20\n",
          "name": "stdout"
        }
      ]
    },
    {
      "metadata": {
        "trusted": true
      },
      "cell_type": "code",
      "source": "astr = 'Hello Bob'\ntry:\n    istr = int(astr)# in this case there is an error, but we aren't getting a trace back because \nexcept:  # the code jump the wron code to except\n    istr = -1\n\nprint('First', istr)\n\nastr = '123'\ntry:\n    istr = int(astr)\nexcept:\n    istr = -1\n    \nprint('Second', istr)\n",
      "execution_count": 89,
      "outputs": [
        {
          "output_type": "stream",
          "text": "First -1\nSecond 123\n",
          "name": "stdout"
        }
      ]
    },
    {
      "metadata": {
        "trusted": true
      },
      "cell_type": "code",
      "source": "astr = 'Hello Bob'\ntry:\n    print('Hello')\n    istr = int(astr)\n    print('There')\nexcept:\n    istr = 1\n\nprint('Done', istr)",
      "execution_count": 90,
      "outputs": [
        {
          "output_type": "stream",
          "text": "Hello\nDone 1\n",
          "name": "stdout"
        }
      ]
    },
    {
      "metadata": {
        "trusted": true
      },
      "cell_type": "code",
      "source": "rawstr = input('Enter a number: ')\ntry:\n    ival = int(rawstr)\nexcept:\n    ival = -1\n    \nif ival > 0:\n    print('Nice work')\nelse:\n    print(\"Not a number\")",
      "execution_count": 91,
      "outputs": [
        {
          "output_type": "stream",
          "name": "stdout",
          "text": "Enter a number: 25\nNice work\n"
        }
      ]
    },
    {
      "metadata": {
        "trusted": true
      },
      "cell_type": "code",
      "source": "x = 2\nif  x == 5 :\n    print('Is 5')\n    print('Is Still 5')\n    print('Third 5')",
      "execution_count": 92,
      "outputs": []
    },
    {
      "metadata": {
        "trusted": true
      },
      "cell_type": "code",
      "source": "x = 6\n\nif x == 6 :\n    print('Is 6')\n    print('Is Still 6')\n    print('Third 6')",
      "execution_count": 93,
      "outputs": [
        {
          "output_type": "stream",
          "text": "Is 6\nIs Still 6\nThird 6\n",
          "name": "stdout"
        }
      ]
    },
    {
      "metadata": {
        "trusted": true
      },
      "cell_type": "code",
      "source": "astr = 'Hello Bob'\nistr = 0\ntry:\n    istr = int(astr)\nexcept:\n    istr = -1",
      "execution_count": 94,
      "outputs": []
    },
    {
      "metadata": {
        "trusted": true
      },
      "cell_type": "code",
      "source": "hrs = input(\"Enter Hours:\")\nwage = input(\"How much do you get per hour: \")\nh = float(hrs)\nrate = float(wage)\nov = rate * 1.5\nreg_h = 40\ndif_h = h - reg_h\n\nif h < 40:\n    print(\"Your pay is: \", (reg_h * rate))\nelif h > 40:\n    print(\"Your pay is: \", (reg_h * rate) + (dif_h * ov))",
      "execution_count": 95,
      "outputs": [
        {
          "output_type": "stream",
          "name": "stdout",
          "text": "Enter Hours:20\nHow much do you get per hour: 10.5\nYour pay is:  420.0\n"
        }
      ]
    },
    {
      "metadata": {
        "trusted": true
      },
      "cell_type": "code",
      "source": "sh = input(\"Enter Hours: \")\nsr = input(\"Enter Rate: \")\n\ntry:\n    fh = float(sh)\n    fr = float(sr)\nexcept:\n    print(\"Error, please enter numeric input\")\n    quit()\n#You can use this to cut because the rest of the code does not make sense \n\nprint(fh, fr)\n\nif fh > 40:\n    reg = fr * fh\n    otp = (fh - 40.0) * (fr * 0.5)\n    xp = reg + otp\nelse:\n    xp = fh * fr\n\nprint(\"pay: \", xp)",
      "execution_count": 96,
      "outputs": [
        {
          "output_type": "stream",
          "name": "stdout",
          "text": "Enter Hours: 45\nEnter Rate: 10.5\n45.0 10.5\npay:  498.75\n"
        }
      ]
    },
    {
      "metadata": {},
      "cell_type": "markdown",
      "source": "3.3 Write a program to prompt for a score between 0.0 and 1.0. If the score is out of range, print an error. If the score is between 0.0 and 1.0, print a grade using the following table:\nScore Grade\n>= 0.9 A\n>= 0.8 B\n>= 0.7 C\n>= 0.6 D\n< 0.6 F\nIf the user enters a value out of range, print a suitable error message and exit. For the test, enter a score of 0.85."
    },
    {
      "metadata": {
        "trusted": true,
        "scrolled": true
      },
      "cell_type": "code",
      "source": "score = input(\"Enter Score: \")\n\ntry:\n    sr = float(score)\nexcept:\n    print(\"Error, please enter numeric input\")\n    quit()\n\nif sr >= 1.0 or sr < 0.0:\n    print(\"Error, please enter numeric in range 0.0 to 1.0\")\nelif sr >= 0.9:\n    print(\"A\")\nelif sr >= 0.8:\n    print(\"B\")\nelif sr >= 0.7:\n    print(\"C\")\nelif sr >= 0.6:\n    print(\"D\")\nelif sr < 0.6:\n    print(\"F\")",
      "execution_count": 97,
      "outputs": [
        {
          "output_type": "stream",
          "name": "stdout",
          "text": "Enter Score: 45\nError, please enter numeric in range 0.0 to 1.0\n"
        }
      ]
    },
    {
      "metadata": {},
      "cell_type": "markdown",
      "source": "# Function"
    },
    {
      "metadata": {
        "trusted": true
      },
      "cell_type": "code",
      "source": "def thing():\n    print(\"Hello\")\n    print(\"Fun\")",
      "execution_count": 98,
      "outputs": []
    },
    {
      "metadata": {
        "trusted": true
      },
      "cell_type": "code",
      "source": "thing()\nprint(\"Zip\")\nthing()",
      "execution_count": 99,
      "outputs": [
        {
          "output_type": "stream",
          "text": "Hello\nFun\nZip\nHello\nFun\n",
          "name": "stdout"
        }
      ]
    },
    {
      "metadata": {
        "trusted": true
      },
      "cell_type": "code",
      "source": "big = max(\"Hello world\")\nprint(big)",
      "execution_count": 100,
      "outputs": [
        {
          "output_type": "stream",
          "text": "w\n",
          "name": "stdout"
        }
      ]
    },
    {
      "metadata": {
        "trusted": true
      },
      "cell_type": "code",
      "source": "tiny = min(\"Hello world\")\nprint(tiny)",
      "execution_count": 101,
      "outputs": [
        {
          "output_type": "stream",
          "text": " \n",
          "name": "stdout"
        }
      ]
    },
    {
      "metadata": {
        "trusted": true
      },
      "cell_type": "code",
      "source": "def max(inp):\n    blah\n    blah\n    for x in inp:\n        blah\n        blah",
      "execution_count": 102,
      "outputs": []
    },
    {
      "metadata": {
        "trusted": true
      },
      "cell_type": "code",
      "source": "print(1 + 2 * float(3) / 4 - 5)",
      "execution_count": 103,
      "outputs": [
        {
          "output_type": "stream",
          "text": "-2.5\n",
          "name": "stdout"
        }
      ]
    },
    {
      "metadata": {
        "trusted": true
      },
      "cell_type": "code",
      "source": "sval = '123'\nival = int(sval)\nprint(ival + 1)",
      "execution_count": 104,
      "outputs": [
        {
          "output_type": "stream",
          "text": "124\n",
          "name": "stdout"
        }
      ]
    },
    {
      "metadata": {},
      "cell_type": "markdown",
      "source": "# Parameters"
    },
    {
      "metadata": {
        "trusted": true
      },
      "cell_type": "code",
      "source": "def greet(lang):\n    if lang == 'es' :\n        print('Hola')\n    elif lang == 'fr':\n        print('Bonjour')\n    else:\n        print('Hello')\n        \ngreet('fr')\ngreet('es')\ngreet('en')",
      "execution_count": 105,
      "outputs": [
        {
          "output_type": "stream",
          "text": "Bonjour\nHola\nHello\n",
          "name": "stdout"
        }
      ]
    },
    {
      "metadata": {},
      "cell_type": "markdown",
      "source": "# Return Values\n\nThe retunr do two things:\n1 - Stops the function - jump to that next line\n2 - Determines the residual value"
    },
    {
      "metadata": {
        "trusted": true
      },
      "cell_type": "code",
      "source": "def greet():\n    return \"Hello\"\n\nprint(greet(), \"Glenn\")\nprint(greet(), \"Sally\")",
      "execution_count": 106,
      "outputs": [
        {
          "output_type": "stream",
          "text": "Hello Glenn\nHello Sally\n",
          "name": "stdout"
        }
      ]
    },
    {
      "metadata": {
        "trusted": true
      },
      "cell_type": "code",
      "source": "def greet(lang):\n    if lang == 'es':\n        return 'Hola'\n    elif lang == \"fr\":\n        return \"Bonjour\"\n    else:\n        return \"Hello\"\n    \nprint(greet ('en'), 'Glenn')\nprint(greet ('es'), 'Sally')\nprint(greet ('fr'), 'Michael')\n    ",
      "execution_count": 107,
      "outputs": [
        {
          "output_type": "stream",
          "text": "Hello Glenn\nHola Sally\nBonjour Michael\n",
          "name": "stdout"
        }
      ]
    },
    {
      "metadata": {
        "trusted": true
      },
      "cell_type": "code",
      "source": "big = max(\"Hello world\")\nprint(big)\n\ndef max(inp):\n    for x in inp:\n    return 'w'",
      "execution_count": 108,
      "outputs": [
        {
          "output_type": "error",
          "ename": "IndentationError",
          "evalue": "expected an indented block (<ipython-input-108-db1df5cde5c2>, line 6)",
          "traceback": [
            "\u001b[0;36m  File \u001b[0;32m\"<ipython-input-108-db1df5cde5c2>\"\u001b[0;36m, line \u001b[0;32m6\u001b[0m\n\u001b[0;31m    return 'w'\u001b[0m\n\u001b[0m         ^\u001b[0m\n\u001b[0;31mIndentationError\u001b[0m\u001b[0;31m:\u001b[0m expected an indented block\n"
          ]
        }
      ]
    },
    {
      "metadata": {},
      "cell_type": "markdown",
      "source": "# Multiple Parameters / Arguments"
    },
    {
      "metadata": {
        "trusted": true
      },
      "cell_type": "code",
      "source": "def addtwo(a, b):\n    added = a + b\n    return added\n\nx = addtwo(3, 5)\nprint(x)",
      "execution_count": 109,
      "outputs": [
        {
          "output_type": "stream",
          "text": "8\n",
          "name": "stdout"
        }
      ]
    },
    {
      "metadata": {
        "trusted": true
      },
      "cell_type": "code",
      "source": "def stuff():\n    print('Hello')\n    return\n    print('World')# jump and never execute\n\nstuff()",
      "execution_count": 110,
      "outputs": [
        {
          "output_type": "stream",
          "text": "Hello\n",
          "name": "stdout"
        }
      ]
    },
    {
      "metadata": {
        "trusted": true
      },
      "cell_type": "code",
      "source": "def addtwo(a, b):\n    added = a + b\n    return a\n\nx = addtwo(2, 7)\nprint(x)",
      "execution_count": 111,
      "outputs": [
        {
          "output_type": "stream",
          "text": "2\n",
          "name": "stdout"
        }
      ]
    },
    {
      "metadata": {
        "trusted": true
      },
      "cell_type": "code",
      "source": "def computepay(h, r):\n    hrs = input(\"Enter Hours: \")\n    return \n\ntry:\n    hr = float(hrs)\nexcept:\n    print(\"Error, please enter numeric input\")\n    quit()",
      "execution_count": 112,
      "outputs": []
    },
    {
      "metadata": {
        "trusted": true
      },
      "cell_type": "code",
      "source": "def computepay(hrs, rate):\n    hrs = input(\"Enter Hours: \")\n    rate = input('Enter rate per hour')\n    rgh = 40.0\n\n    try:\n        hr = float(hrs)\n        rt = float(rate)\n    except:\n        print(\"Error, please enter numeric input\")\n        quit()\n    \n    #print(hr, rt)\n    \n    if hr > 40:\n        r = (((hr-rgh) * (rt* 1.5)) + (rgh * rt))\n        return r\n    elif hr <= 40:\n        r = (rgh * rate)\n        return r  # this r would be the print if we don't need to put return\n    \np = computepay(10, 20)\nprint(\"Pay\", p)\n\n# I have to correct this exercise because if enter numbers is fine but if you enter letters it going to show you an error",
      "execution_count": 113,
      "outputs": [
        {
          "output_type": "stream",
          "name": "stdout",
          "text": "Enter Hours: 45\nEnter rate per hour10.5\nPay 498.75\n"
        }
      ]
    },
    {
      "metadata": {},
      "cell_type": "markdown",
      "source": "# Loops and Iteration\n\n.<b>While</b>\n\n.<b>break</b>\n\n.<b>continue</b>"
    },
    {
      "metadata": {
        "trusted": true
      },
      "cell_type": "code",
      "source": "n = 5\nwhile n > 0:\n    print(n)\n    n = n - 1 # this is the code that send the iteration to while\nprint('Blastoff')\nprint(n)",
      "execution_count": 115,
      "outputs": [
        {
          "output_type": "stream",
          "text": "5\n4\n3\n2\n1\nBlastoff\n0\n",
          "name": "stdout"
        }
      ]
    },
    {
      "metadata": {
        "trusted": true
      },
      "cell_type": "code",
      "source": "n = 0\nwhile n > 0:\n    print('Lather')\n    print('Rinse')\nprint('Dry off')",
      "execution_count": 2,
      "outputs": [
        {
          "output_type": "stream",
          "text": "Dry off\n",
          "name": "stdout"
        }
      ]
    },
    {
      "metadata": {
        "trusted": true
      },
      "cell_type": "code",
      "source": "while True: # this is an infinitive loop\n    line = input('> ')\n    if line == 'done':\n        break # this statement ends the current iteration and jumps to the next iteration\n    print(line)\nprint('Done')",
      "execution_count": 116,
      "outputs": [
        {
          "output_type": "stream",
          "name": "stdout",
          "text": "> Hello world\nHello world\n> Hello world\nHello world\n> hello\nhello\n> done\nDone\n"
        }
      ]
    },
    {
      "metadata": {
        "trusted": true
      },
      "cell_type": "code",
      "source": "while True:\n    line = input('> ')\n    if line[0] == '#':\n        continue\n    if line == 'done':\n        break\n    print(line)\nprint('Done')    \n# So continue says, oh, we're going to go up to the top. Break says get out and continue says don't do the rest of this iteration but go up and do the next iteration. ",
      "execution_count": 6,
      "outputs": [
        {
          "output_type": "stream",
          "name": "stdout",
          "text": "> hello there\nhello there\n> # don't print this\n> print this\nprint this\n> done\nDone\n"
        }
      ]
    },
    {
      "metadata": {
        "trusted": true
      },
      "cell_type": "code",
      "source": "while True:\n    line = raw_input('> ')\n    if line[0] == '#':\n        continue # quit on the current iteration and go to the next iteration\n    if line == 'done':\n        break\n    print(line)\nprint('Done')",
      "execution_count": 122,
      "outputs": [
        {
          "output_type": "error",
          "ename": "TypeError",
          "evalue": "'int' object is not callable",
          "traceback": [
            "\u001b[0;31m---------------------------------------------------------------------------\u001b[0m",
            "\u001b[0;31mTypeError\u001b[0m                                 Traceback (most recent call last)",
            "\u001b[0;32m<ipython-input-122-3dd28fa48038>\u001b[0m in \u001b[0;36m<module>\u001b[0;34m()\u001b[0m\n\u001b[1;32m      1\u001b[0m \u001b[0;32mwhile\u001b[0m \u001b[0;32mTrue\u001b[0m\u001b[0;34m:\u001b[0m\u001b[0;34m\u001b[0m\u001b[0m\n\u001b[0;32m----> 2\u001b[0;31m     \u001b[0mline\u001b[0m \u001b[0;34m=\u001b[0m \u001b[0mraw_input\u001b[0m\u001b[0;34m(\u001b[0m\u001b[0;34m'> '\u001b[0m\u001b[0;34m)\u001b[0m\u001b[0;34m\u001b[0m\u001b[0m\n\u001b[0m\u001b[1;32m      3\u001b[0m     \u001b[0;32mif\u001b[0m \u001b[0mline\u001b[0m\u001b[0;34m[\u001b[0m\u001b[0;36m0\u001b[0m\u001b[0;34m]\u001b[0m \u001b[0;34m==\u001b[0m \u001b[0;34m'#'\u001b[0m\u001b[0;34m:\u001b[0m\u001b[0;34m\u001b[0m\u001b[0m\n\u001b[1;32m      4\u001b[0m         \u001b[0;32mcontinue\u001b[0m\u001b[0;34m\u001b[0m\u001b[0m\n\u001b[1;32m      5\u001b[0m     \u001b[0;32mif\u001b[0m \u001b[0mline\u001b[0m \u001b[0;34m==\u001b[0m \u001b[0;34m'done'\u001b[0m\u001b[0;34m:\u001b[0m\u001b[0;34m\u001b[0m\u001b[0m\n",
            "\u001b[0;31mTypeError\u001b[0m: 'int' object is not callable"
          ]
        }
      ]
    },
    {
      "metadata": {
        "trusted": true
      },
      "cell_type": "markdown",
      "source": "# Definite Loops\n \n<b>for</b>\n \nThe first thing we see in a for loop is we see the iteration variable is explicitly just part of the syntax. i is, you can pick any variable you like. I happen to pick i, and everyone picks i for integer iteration variables. "
    },
    {
      "metadata": {
        "trusted": true
      },
      "cell_type": "code",
      "source": "for i in [5, 4, 3, 2, 1]:\n    print(i)\nprint('Blastoff')",
      "execution_count": 10,
      "outputs": [
        {
          "output_type": "stream",
          "text": "5\n4\n3\n2\n1\nBlastoff\n",
          "name": "stdout"
        }
      ]
    },
    {
      "metadata": {},
      "cell_type": "markdown",
      "source": "<b>A define Loop with Strings"
    },
    {
      "metadata": {
        "trusted": true
      },
      "cell_type": "code",
      "source": "friends = ['Joseph', \"Glem\", 'Salary']\nfor friend in friends:\n    print('Happy New Year: ', friend)\nprint('Done')",
      "execution_count": 12,
      "outputs": [
        {
          "output_type": "stream",
          "text": "Happy New Year:  Joseph\nHappy New Year:  Glem\nHappy New Year:  Salary\nDone\n",
          "name": "stdout"
        }
      ]
    },
    {
      "metadata": {},
      "cell_type": "markdown",
      "source": "Definite loops (for loops) have explicit iteration variables that change each time through a loop.  These iteration variable move through the sequence or set."
    },
    {
      "metadata": {},
      "cell_type": "markdown",
      "source": "<b>Finding the largest value"
    },
    {
      "metadata": {
        "trusted": true
      },
      "cell_type": "code",
      "source": "largest_so_far = -1\nprint(\"Before\", largest_so_far)\nfor the_num in [9, 41, 12, 3, 74, 15]:\n    if the_num > largest_so_far:\n        largest_so_far = the_num\n    print(largest_so_far, the_num)\n    \nprint('After', largest_so_far)",
      "execution_count": 15,
      "outputs": [
        {
          "output_type": "stream",
          "text": "Before -1\n9 9\n41 41\n41 12\n41 3\n74 74\n74 15\nAfter 74\n",
          "name": "stdout"
        }
      ]
    },
    {
      "metadata": {},
      "cell_type": "markdown",
      "source": "We make a variable that contains the largest value we have seen so far. If the current number we are looking at is large, it is the new largest value we have seen so far."
    },
    {
      "metadata": {
        "trusted": true
      },
      "cell_type": "code",
      "source": "var_1 = -1\nprint(\"Before\", var_1)\nfor numb in [1, 2, 4, 5]:\n    if numb > var_1:\n        var_1 = numb\n    print(var_1, numb)\n    \nprint('After', numb)",
      "execution_count": 16,
      "outputs": [
        {
          "output_type": "stream",
          "text": "Before -1\n1 1\n2 2\n4 4\n5 5\nAfter 5\n",
          "name": "stdout"
        }
      ]
    },
    {
      "metadata": {},
      "cell_type": "markdown",
      "source": "# Loop Idioms\n\n<b>Counting in a Loop</b>\n\nTo count how many times we execute a loop, we introduce a counter variable that starts at 0 and we add one to it each time through the loop."
    },
    {
      "metadata": {
        "trusted": true
      },
      "cell_type": "code",
      "source": "zork = 0\nprint('Before', zork)\nfor thing in (9, 41, 12, 3, 74, 15):\n    zork = zork + 1\n    print(zork, thing)\nprint('After', zork)",
      "execution_count": 1,
      "outputs": [
        {
          "output_type": "stream",
          "text": "Before 0\n1 9\n2 41\n3 12\n4 3\n5 74\n6 15\nAfter 6\n",
          "name": "stdout"
        }
      ]
    },
    {
      "metadata": {},
      "cell_type": "markdown",
      "source": "<b>Summing in a Loop</b>\n\nTo add up a value we encounter in a loop, we introduce a sum variable that starts at 0 and we add the value to the sum each time through the loop."
    },
    {
      "metadata": {
        "trusted": true
      },
      "cell_type": "code",
      "source": "zork = 0\nprint('Before', zork)\nfor thing in [9, 41, 12, 3, 74, 15]:\n    zork = zork + thing\n    print(zork, thing)\nprint('After', zork)",
      "execution_count": 2,
      "outputs": [
        {
          "output_type": "stream",
          "text": "Before 0\n9 9\n50 41\n62 12\n65 3\n139 74\n154 15\nAfter 154\n",
          "name": "stdout"
        }
      ]
    },
    {
      "metadata": {},
      "cell_type": "markdown",
      "source": "<b>Finding the Average in a Loop</b>\n\nAn average just combines the counting and sum patterns and divides when the loop is done."
    },
    {
      "metadata": {
        "trusted": true
      },
      "cell_type": "code",
      "source": "count = 0\nsum = 0\nprint('Before', count, sum)\nfor value in  [9, 41, 12, 3, 74, 15] :\n    count = count + 1\n    sum = sum + value\n    print(count, sum, value)\nprint('After', count, sum, sum / count)    ",
      "execution_count": 4,
      "outputs": [
        {
          "output_type": "stream",
          "text": "Before 0 0\n1 9 9\n2 50 41\n3 62 12\n4 65 3\n5 139 74\n6 154 15\nAfter 6 154 25.666666666666668\n",
          "name": "stdout"
        }
      ]
    },
    {
      "metadata": {},
      "cell_type": "markdown",
      "source": "<b>Filtering in a Loop</b>\n\nWe use an if statement in the Loop to catch / filter the values we are looking for."
    },
    {
      "metadata": {
        "trusted": true
      },
      "cell_type": "code",
      "source": "print('Before')\nfor value in [9, 41, 12, 3, 74, 15] :\n    if value > 20:\n        print('Large number', value)\nprint('After')",
      "execution_count": 6,
      "outputs": [
        {
          "output_type": "stream",
          "text": "Before\nLarge number 41\nLarge number 74\nAfter\n",
          "name": "stdout"
        }
      ]
    },
    {
      "metadata": {},
      "cell_type": "markdown",
      "source": "<b>Search Using a Boolean Variable</b>\n\nIf we just want to search and know if a value was found, we use a variable that starts at False and is set to True as soon as we find what we are looking for."
    },
    {
      "metadata": {
        "trusted": true
      },
      "cell_type": "code",
      "source": "found = False\nprint('Before', found)\nfor value in [9, 41, 12, 3, 74, 15] :\n    if value == 3 :\n        found = True\n    print(found, value)\nprint('After', found)",
      "execution_count": 7,
      "outputs": [
        {
          "output_type": "stream",
          "text": "Before False\nFalse 9\nFalse 41\nFalse 12\nTrue 3\nTrue 74\nTrue 15\nAfter True\n",
          "name": "stdout"
        }
      ]
    },
    {
      "metadata": {},
      "cell_type": "markdown",
      "source": "<b>How to find the Smallest Value</b>\n\nHow would we change this to make it find the Smallest value in the list?\n\nNone is a variable, a value, that we can distinctly detect different that numbers.\n\nWe still have a variable that is the smallest so far.  The first time through the loop smallest is None, so we take the first value to be the smallest."
    },
    {
      "metadata": {
        "trusted": true
      },
      "cell_type": "code",
      "source": "smallest = None  # Flag value\nprint(\"Before\")\nfor value in [9, 41, 12, 3, 74, 15]:\n    if smallest is None:\n        smallest = value\n    elif value < smallest :\n        smallest = value\n    print(smallest, value)\nprint('After', smallest)",
      "execution_count": 10,
      "outputs": [
        {
          "output_type": "stream",
          "text": "Before\n9 9\n9 41\n9 12\n3 3\n3 74\n3 15\nAfter 3\n",
          "name": "stdout"
        }
      ]
    },
    {
      "metadata": {},
      "cell_type": "markdown",
      "source": "<b>The \"is\" and \"is not\" Operators</b>\n\n\"Is\", \"None\" and \"is not\" is also a logical operator.\nYou shouldn't use is when you should be using double equals, usually you're using them for a True, False, or None. So that we don't overuse is, because is, is a really, really strong equality. So it's a stronger equality than double equals to, so the double equals is mathematically equal to with potential conversion. "
    },
    {
      "metadata": {},
      "cell_type": "markdown",
      "source": "# Exercise\n\nWirte a program wich repeatedly reads numbers until the user enters \"done\". Once \"done\" is entered, print out the total, count and average of the numbers. If the user enters anything other than a number,detect their mistake using \"try\" and \"except\" and print an error message and skip to the next number.\n\nEnter a number: 4\n\nEnter a number: 5\n\nEnter a number: bad data\n\nInvalid input\n\nEnter a number: 7\n\nEnter a number: done\n\n16 3 5.3333"
    },
    {
      "metadata": {
        "trusted": true
      },
      "cell_type": "code",
      "source": "num = 0\ntot = 0.0\nwhile True :\n    sval = input('Enter a number: ')\n    if sval == 'done' :\n        break\n    try:\n        fval = float(sval)\n    except:\n        print('Invalid input')\n        continue\n    num = num + 1\n    tot = tot + fval\n    \nprint(tot, num, tot/num) # average = total/num",
      "execution_count": 12,
      "outputs": [
        {
          "output_type": "stream",
          "name": "stdout",
          "text": "Enter a number: 7\nEnter a number: 4\nEnter a number: 5\nEnter a number: dajskhskdh\nInvalid input\nEnter a number: 8.3\nEnter a number: done\n24.3 4 6.075\n"
        }
      ]
    },
    {
      "metadata": {},
      "cell_type": "markdown",
      "source": "# Chapter 5\nGraded Quiz"
    },
    {
      "metadata": {
        "trusted": true
      },
      "cell_type": "code",
      "source": "tot = 0 \nfor i in [5, 4, 3, 2, 1] :\n    tot = tot + 1\nprint(tot)",
      "execution_count": 17,
      "outputs": [
        {
          "output_type": "stream",
          "text": "5\n",
          "name": "stdout"
        }
      ]
    },
    {
      "metadata": {
        "trusted": true
      },
      "cell_type": "code",
      "source": "zork = 0\nfor thing in [9, 41, 12, 3, 74, 15] :\n    zork = zork + thing\nprint('After', zork)",
      "execution_count": 18,
      "outputs": [
        {
          "output_type": "stream",
          "text": "After 154\n",
          "name": "stdout"
        }
      ]
    },
    {
      "metadata": {
        "trusted": true
      },
      "cell_type": "code",
      "source": "smallest_so_far = -1\nfor the_num in [9, 41, 12, 3, 74, 15] :\n   if the_num < smallest_so_far :\n      smallest_so_far = the_num\nprint(smallest_so_far)",
      "execution_count": 19,
      "outputs": [
        {
          "output_type": "stream",
          "text": "-1\n",
          "name": "stdout"
        }
      ]
    },
    {
      "metadata": {
        "trusted": true
      },
      "cell_type": "code",
      "source": "n = 0\nwhile n > 0 :\n    print('Lather')\n    print('Rinse')\nprint('Dry off!')",
      "execution_count": 20,
      "outputs": [
        {
          "output_type": "stream",
          "text": "Dry off!\n",
          "name": "stdout"
        }
      ]
    },
    {
      "metadata": {
        "trusted": true
      },
      "cell_type": "markdown",
      "source": "# Assignment 5.2"
    },
    {
      "metadata": {},
      "cell_type": "markdown",
      "source": "5.2 Write a program that repeatedly prompts a user for integer numbers until the user enters 'done'. Once 'done' is entered, print out the largest and smallest of the numbers. If the user enters anything other than a valid number catch it with a try/except and put out an appropriate message and ignore the number. Enter 7, 2, bob, 10, and 4 and match the output below."
    },
    {
      "metadata": {
        "trusted": true
      },
      "cell_type": "code",
      "source": "largest = None\nsmallest = None\n\nwhile True:\n    try:\n        num = input(\"Enter a number: \")\n        if num == 'done':\n            break\n        \n        n = int(num)\n        if largest is None or n > largest:\n            largest = n\n        elif smallest is None or n < smallest:\n            smallest = n\n            \n    except:\n        print(\"Invalid input\")\n        continue\n\nprint(\"Maximum is\", largest)\n\nprint(\"Minimum is\", smallest)",
      "execution_count": 1,
      "outputs": [
        {
          "output_type": "stream",
          "name": "stdout",
          "text": "Enter a number: 2\nEnter a number: 7\nEnter a number: bob\nInvalid input\nEnter a number: 10\nEnter a number: 4\nEnter a number: done\nMaximum is 10\nMinimum is 4\n"
        }
      ]
    },
    {
      "metadata": {
        "trusted": true
      },
      "cell_type": "markdown",
      "source": "# Chapter 6"
    },
    {
      "metadata": {
        "trusted": true
      },
      "cell_type": "code",
      "source": "fruit = 'banana'\nletter = fruit[1]\nprint(letter)",
      "execution_count": 2,
      "outputs": [
        {
          "output_type": "stream",
          "text": "a\n",
          "name": "stdout"
        }
      ]
    },
    {
      "metadata": {
        "trusted": true
      },
      "cell_type": "code",
      "source": "x = 3\nw = fruit[x - 1]\nprint(w)",
      "execution_count": 3,
      "outputs": [
        {
          "output_type": "stream",
          "text": "n\n",
          "name": "stdout"
        }
      ]
    },
    {
      "metadata": {},
      "cell_type": "markdown",
      "source": "Len Function\n\nA function is some stored code that we use.  A function takes some input and produces an output."
    },
    {
      "metadata": {
        "trusted": true
      },
      "cell_type": "code",
      "source": "fruit = 'banana'\nx = len(fruit)\nprint(x)",
      "execution_count": 4,
      "outputs": [
        {
          "output_type": "stream",
          "text": "6\n",
          "name": "stdout"
        }
      ]
    },
    {
      "metadata": {},
      "cell_type": "markdown",
      "source": "Looping Through Strings\n\nUsing a while statement and an iteration variable, and the len function, we can construct a loop to look at each of the letters in a string individually."
    },
    {
      "metadata": {
        "trusted": true
      },
      "cell_type": "code",
      "source": "fruit = 'banana'\nindex = 0\nwhile index < len(fruit):\n    letter = fruit[index]\n    print(index, letter)\n    index = index + 1",
      "execution_count": 5,
      "outputs": [
        {
          "output_type": "stream",
          "text": "0 b\n1 a\n2 n\n3 a\n4 n\n5 a\n",
          "name": "stdout"
        }
      ]
    },
    {
      "metadata": {},
      "cell_type": "markdown",
      "source": "A define loop using a for statement is much more elegant\n\nThe iteration variable is completely taken care of by hte for loop"
    },
    {
      "metadata": {
        "trusted": true
      },
      "cell_type": "code",
      "source": "fruit = 'banana'\nfor letter in fruit:\n    print(letter)",
      "execution_count": 6,
      "outputs": [
        {
          "output_type": "stream",
          "text": "b\na\nn\na\nn\na\n",
          "name": "stdout"
        }
      ]
    },
    {
      "metadata": {
        "trusted": true
      },
      "cell_type": "code",
      "source": "# is the same output of the code before, and more code, always is better succcinct the code.\nindex =  0\nwhile index < len(fruit):\n    letter = fruit[index]\n    print(letter)\n    index = index + 1",
      "execution_count": 7,
      "outputs": [
        {
          "output_type": "stream",
          "text": "b\na\nn\na\nn\na\n",
          "name": "stdout"
        }
      ]
    },
    {
      "metadata": {},
      "cell_type": "markdown",
      "source": "Looping and counting\n\nThis is a simple loop that loops through each letter in a string and counts the number of times the loop encounters the 'a' character"
    },
    {
      "metadata": {
        "trusted": true
      },
      "cell_type": "code",
      "source": "word = 'banana'\ncount = 0\nfor letter in word:\n    if letter == 'a':\n        count = count + 1\nprint(count)",
      "execution_count": 8,
      "outputs": [
        {
          "output_type": "stream",
          "text": "3\n",
          "name": "stdout"
        }
      ]
    },
    {
      "metadata": {},
      "cell_type": "markdown",
      "source": "Slicing Strings\n\nIf we leave off the first number or the last number the slice, it is assumed to be the beginning or end of the string respectively."
    },
    {
      "metadata": {
        "trusted": true
      },
      "cell_type": "code",
      "source": "s = 'Monty Python'\nprint(s[:2])\nprint(s[8:])\nprint(s[:])",
      "execution_count": 9,
      "outputs": [
        {
          "output_type": "stream",
          "text": "Mo\nthon\nMonty Python\n",
          "name": "stdout"
        }
      ]
    },
    {
      "metadata": {
        "trusted": true
      },
      "cell_type": "markdown",
      "source": "Using \"in\" as a Logical Operator\n\nThen \"in\" keyword can also be used to check to seee if one string is \"in\" another string.\n\nThen \"in\" expression is a logical True or False and can be used in an if statement."
    },
    {
      "metadata": {
        "trusted": true
      },
      "cell_type": "code",
      "source": "fruit = 'banana'\n'n' in fruit",
      "execution_count": 1,
      "outputs": [
        {
          "output_type": "execute_result",
          "execution_count": 1,
          "data": {
            "text/plain": "True"
          },
          "metadata": {}
        }
      ]
    },
    {
      "metadata": {
        "trusted": true
      },
      "cell_type": "code",
      "source": "'m' in fruit",
      "execution_count": 2,
      "outputs": [
        {
          "output_type": "execute_result",
          "execution_count": 2,
          "data": {
            "text/plain": "False"
          },
          "metadata": {}
        }
      ]
    },
    {
      "metadata": {
        "trusted": true
      },
      "cell_type": "code",
      "source": "'nan' in fruit",
      "execution_count": 3,
      "outputs": [
        {
          "output_type": "execute_result",
          "execution_count": 3,
          "data": {
            "text/plain": "True"
          },
          "metadata": {}
        }
      ]
    },
    {
      "metadata": {
        "trusted": true
      },
      "cell_type": "code",
      "source": "if 'a' in fruit:\n    print('Found it')",
      "execution_count": 4,
      "outputs": [
        {
          "output_type": "stream",
          "text": "Found it\n",
          "name": "stdout"
        }
      ]
    },
    {
      "metadata": {},
      "cell_type": "markdown",
      "source": "Objects are these kinds of variable that have capabilities that are kind of grafted onto or built into them.\n\nManipulating Strings"
    },
    {
      "metadata": {
        "trusted": true
      },
      "cell_type": "code",
      "source": "greet = 'Hello Bob'\nzap = greet.lower() # object method\nprint(zap)",
      "execution_count": 5,
      "outputs": [
        {
          "output_type": "stream",
          "text": "hello bob\n",
          "name": "stdout"
        }
      ]
    },
    {
      "metadata": {},
      "cell_type": "markdown",
      "source": "Searching a String\n\nWe use the 'find()' function to search for a substring within another string.\n\nFind() finds the first occurrence of the substring\n\nIf the substring is not found, find() returns -1\n\nRemember that string position starts at zero"
    },
    {
      "metadata": {
        "trusted": true
      },
      "cell_type": "code",
      "source": "fruit = 'banana'\npos = fruit.find('na') # find the substring position within another string \nprint(pos)",
      "execution_count": 7,
      "outputs": [
        {
          "output_type": "stream",
          "text": "2\n",
          "name": "stdout"
        }
      ]
    },
    {
      "metadata": {
        "trusted": true
      },
      "cell_type": "code",
      "source": "aa = fruit.find('z')\nprint(aa)  # this is like a flag to indicate don't find it",
      "execution_count": 8,
      "outputs": [
        {
          "output_type": "stream",
          "text": "-1\n",
          "name": "stdout"
        }
      ]
    },
    {
      "metadata": {},
      "cell_type": "markdown",
      "source": "Making Everything UPPER CASE\n\nYou can make a copy of a string in lower case or upper case"
    },
    {
      "metadata": {
        "trusted": true
      },
      "cell_type": "code",
      "source": "greet = 'Hello Bob'\nnnn = greet.upper()\nprint(nnn)",
      "execution_count": 10,
      "outputs": [
        {
          "output_type": "stream",
          "text": "HELLO BOB\n",
          "name": "stdout"
        }
      ]
    },
    {
      "metadata": {},
      "cell_type": "markdown",
      "source": "Search and Replace\n\nThe replace() function is like a \"search and replace\" operation in a word processor\n\nIt replaces all ocurrences of the search string with the replacement string"
    },
    {
      "metadata": {
        "trusted": true
      },
      "cell_type": "code",
      "source": "greet = 'Hello Bob'\nnstr = greet.replace('Bob', 'Jane')\nprint(nstr)",
      "execution_count": 9,
      "outputs": [
        {
          "output_type": "stream",
          "text": "Hello Jane\n",
          "name": "stdout"
        }
      ]
    },
    {
      "metadata": {},
      "cell_type": "markdown",
      "source": "Stripping Whitespace\n\nSometimes we want to take a string and remove whitespace at the beginning and/or end.\n\n'Istrip()' and 'rstrip()' remove whitespace at the left or right.\n\n'strip()' removes both beginning and ending whitespace"
    },
    {
      "metadata": {
        "trusted": true
      },
      "cell_type": "code",
      "source": "greet = '       Hello Bob   '\ngreet.lstrip()",
      "execution_count": 13,
      "outputs": [
        {
          "output_type": "execute_result",
          "execution_count": 13,
          "data": {
            "text/plain": "'Hello Bob   '"
          },
          "metadata": {}
        }
      ]
    },
    {
      "metadata": {
        "trusted": true
      },
      "cell_type": "code",
      "source": "greet.rstrip()",
      "execution_count": 12,
      "outputs": [
        {
          "output_type": "execute_result",
          "execution_count": 12,
          "data": {
            "text/plain": "'       Hello Bob'"
          },
          "metadata": {}
        }
      ]
    },
    {
      "metadata": {
        "trusted": true
      },
      "cell_type": "code",
      "source": "greet.strip()",
      "execution_count": 14,
      "outputs": [
        {
          "output_type": "execute_result",
          "execution_count": 14,
          "data": {
            "text/plain": "'Hello Bob'"
          },
          "metadata": {}
        }
      ]
    },
    {
      "metadata": {},
      "cell_type": "markdown",
      "source": "There is a built-in method called \"startswith\", \"line.startswith()\".\n\nPrefixes"
    },
    {
      "metadata": {
        "trusted": true
      },
      "cell_type": "code",
      "source": "line = 'Please have a nice day'\nline.startswith('Please')",
      "execution_count": 16,
      "outputs": [
        {
          "output_type": "execute_result",
          "execution_count": 16,
          "data": {
            "text/plain": "True"
          },
          "metadata": {}
        }
      ]
    },
    {
      "metadata": {
        "trusted": true
      },
      "cell_type": "code",
      "source": "line.startswith('p')",
      "execution_count": 17,
      "outputs": [
        {
          "output_type": "execute_result",
          "execution_count": 17,
          "data": {
            "text/plain": "False"
          },
          "metadata": {}
        }
      ]
    },
    {
      "metadata": {},
      "cell_type": "markdown",
      "source": "Parsing and Extrating\n\nFrom stephen.marquard@uct.ac.za  Sa  Jan  5 09:14:16  2008\n\nWe want to extract this little bit  \"uct.ac.za\""
    },
    {
      "metadata": {
        "trusted": true
      },
      "cell_type": "code",
      "source": "data = 'From stephen.marquard@uct.ac.za Sa Jan 5 09:14:16 2008'\natpos = data.find('@')\nprint(atpos)",
      "execution_count": 18,
      "outputs": [
        {
          "output_type": "stream",
          "text": "21\n",
          "name": "stdout"
        }
      ]
    },
    {
      "metadata": {
        "trusted": true
      },
      "cell_type": "code",
      "source": "sppos = data .find(' ', atpos)\nprint(sppos)",
      "execution_count": 20,
      "outputs": [
        {
          "output_type": "stream",
          "text": "31\n",
          "name": "stdout"
        }
      ]
    },
    {
      "metadata": {
        "trusted": true
      },
      "cell_type": "code",
      "source": "host = data[atpos+1 : sppos]\nprint(host)",
      "execution_count": 21,
      "outputs": [
        {
          "output_type": "stream",
          "text": "uct.ac.za\n",
          "name": "stdout"
        }
      ]
    },
    {
      "metadata": {},
      "cell_type": "markdown",
      "source": "SUMMARY \n\nString TypeError\n\nRead/convert\n\nIndexing strings[]\n\nSlicing strings[2:4]\n\nLooping through strings with 'for' and 'while'\n\nConcatenating strings with +\n\nString operations\n\nString library\n\nString Comparisons\n\nSearching in strings\n\nReplacing text\n\nStripping white space"
    },
    {
      "metadata": {},
      "cell_type": "markdown",
      "source": "# Chapter 6 Quiz\nGraded Quiz • 30 min\n"
    },
    {
      "metadata": {
        "trusted": true
      },
      "cell_type": "code",
      "source": "str1 = \"Hello\"\nstr2 = 'there'\nbob = str1 + str2\nprint(bob)",
      "execution_count": 22,
      "outputs": [
        {
          "output_type": "stream",
          "text": "Hellothere\n",
          "name": "stdout"
        }
      ]
    },
    {
      "metadata": {
        "trusted": true
      },
      "cell_type": "code",
      "source": "x = '40'\ny = int(x) + 2\nprint(y)",
      "execution_count": 23,
      "outputs": [
        {
          "output_type": "stream",
          "text": "42\n",
          "name": "stdout"
        }
      ]
    },
    {
      "metadata": {
        "trusted": true
      },
      "cell_type": "code",
      "source": "x = 'From marquard@uct.ac.za'\nprint(x[8])",
      "execution_count": 24,
      "outputs": [
        {
          "output_type": "stream",
          "text": "q\n",
          "name": "stdout"
        }
      ]
    },
    {
      "metadata": {
        "trusted": true
      },
      "cell_type": "code",
      "source": "x = 'From marquard@uct.ac.za'\nprint(x[14:17])",
      "execution_count": 27,
      "outputs": [
        {
          "output_type": "stream",
          "text": "uct\n",
          "name": "stdout"
        }
      ]
    },
    {
      "metadata": {
        "trusted": true
      },
      "cell_type": "code",
      "source": "print(len('banana')*7)",
      "execution_count": 28,
      "outputs": [
        {
          "output_type": "stream",
          "text": "42\n",
          "name": "stdout"
        }
      ]
    },
    {
      "metadata": {
        "trusted": true
      },
      "cell_type": "code",
      "source": "greet = 'Hello Bob'\nprint(greet.upper())",
      "execution_count": 29,
      "outputs": [
        {
          "output_type": "stream",
          "text": "HELLO BOB\n",
          "name": "stdout"
        }
      ]
    },
    {
      "metadata": {
        "trusted": true
      },
      "cell_type": "code",
      "source": "data = 'From stephen.marquard@uct.ac.za Sat Jan  5 09:14:16 2008'\npos = data.find('.')\nprint(data[pos:pos+3])",
      "execution_count": 31,
      "outputs": [
        {
          "output_type": "stream",
          "text": ".ma\n",
          "name": "stdout"
        }
      ]
    },
    {
      "metadata": {
        "trusted": true
      },
      "cell_type": "code",
      "source": "",
      "execution_count": null,
      "outputs": []
    }
  ],
  "metadata": {
    "kernelspec": {
      "name": "python3",
      "display_name": "Python 3",
      "language": "python"
    },
    "language_info": {
      "mimetype": "text/x-python",
      "nbconvert_exporter": "python",
      "name": "python",
      "pygments_lexer": "ipython3",
      "version": "3.5.4",
      "file_extension": ".py",
      "codemirror_mode": {
        "version": 3,
        "name": "ipython"
      }
    }
  },
  "nbformat": 4,
  "nbformat_minor": 2
}